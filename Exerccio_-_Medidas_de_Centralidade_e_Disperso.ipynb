{
 "cells": [
  {
   "cell_type": "markdown",
   "metadata": {},
   "source": [
    "# Introdução à Ciência de Dados - UFPB\n",
    "Professor: Yuri Malheiros\n",
    "\n",
    "## Medidas de Centralidade e Dispersão"
   ]
  },
  {
   "cell_type": "markdown",
   "metadata": {},
   "source": [
    "A partir do dataset `movies.csv` calcule a média, mediana e desvio padrão para as colunas:"
   ]
  },
  {
   "cell_type": "markdown",
   "metadata": {},
   "source": [
    "### US Gross"
   ]
  },
  {
   "cell_type": "code",
   "execution_count": 1,
   "metadata": {},
   "outputs": [
    {
     "name": "stdout",
     "output_type": "stream",
     "text": [
      "US Gross\n",
      "Media = 44002085.16\n",
      "Mediana = 22019465.50\n",
      "Desvio Padrão = 62555311.39\n"
     ]
    }
   ],
   "source": [
    "import pandas as pd\n",
    "import numpy as np\n",
    "\n",
    "saida = \"US Gross\"\n",
    "\n",
    "movies_df = pd.read_csv(\"dataset/movies.csv\")\n",
    "media = movies_df[saida].mean()\n",
    "mediana = movies_df[saida].median()\n",
    "desvio = movies_df[saida].std()\n",
    "\n",
    "print(saida)\n",
    "print(\"Media = {:.2f}\".format(media))\n",
    "print(\"Mediana = {:.2f}\".format(mediana))\n",
    "print(\"Desvio Padrão = {:.2f}\".format(desvio))"
   ]
  },
  {
   "cell_type": "markdown",
   "metadata": {},
   "source": [
    "### Production Budget"
   ]
  },
  {
   "cell_type": "code",
   "execution_count": 2,
   "metadata": {},
   "outputs": [
    {
     "name": "stdout",
     "output_type": "stream",
     "text": [
      "Production Budget\n",
      "Media = 31069171.45\n",
      "Mediana = 20000000.00\n",
      "Desvio Padrão = 35585913.44\n"
     ]
    }
   ],
   "source": [
    "import pandas as pd\n",
    "import numpy as np\n",
    "\n",
    "saida = \"Production Budget\"\n",
    "\n",
    "movies_df = pd.read_csv(\"dataset/movies.csv\")\n",
    "media = movies_df[saida].mean()\n",
    "mediana = movies_df[saida].median()\n",
    "desvio = movies_df[saida].std()\n",
    "\n",
    "print(saida)\n",
    "print(\"Media = {:.2f}\".format(media))\n",
    "print(\"Mediana = {:.2f}\".format(mediana))\n",
    "print(\"Desvio Padrão = {:.2f}\".format(desvio))"
   ]
  },
  {
   "cell_type": "markdown",
   "metadata": {},
   "source": [
    "### Running Time"
   ]
  },
  {
   "cell_type": "code",
   "execution_count": 3,
   "metadata": {},
   "outputs": [
    {
     "name": "stdout",
     "output_type": "stream",
     "text": [
      "Running Time (min)\n",
      "Media = 110.19\n",
      "Mediana = 107.00\n",
      "Desvio Padrão = 20.17\n"
     ]
    }
   ],
   "source": [
    "import pandas as pd\n",
    "import numpy as np\n",
    "\n",
    "saida = \"Running Time (min)\"\n",
    "\n",
    "movies_df = pd.read_csv(\"dataset/movies.csv\")\n",
    "media = movies_df[saida].mean()\n",
    "mediana = movies_df[saida].median()\n",
    "desvio = movies_df[saida].std()\n",
    "\n",
    "print(saida)\n",
    "print(\"Media = {:.2f}\".format(media))\n",
    "print(\"Mediana = {:.2f}\".format(mediana))\n",
    "print(\"Desvio Padrão = {:.2f}\".format(desvio))"
   ]
  },
  {
   "cell_type": "markdown",
   "metadata": {},
   "source": [
    "### IMDB Rating"
   ]
  },
  {
   "cell_type": "code",
   "execution_count": 4,
   "metadata": {},
   "outputs": [
    {
     "name": "stdout",
     "output_type": "stream",
     "text": [
      "IMDB Rating\n",
      "Media = 6.28\n",
      "Mediana = 6.40\n",
      "Desvio Padrão = 1.25\n"
     ]
    }
   ],
   "source": [
    "import pandas as pd\n",
    "import numpy as np\n",
    "\n",
    "saida = \"IMDB Rating\"\n",
    "\n",
    "movies_df = pd.read_csv(\"dataset/movies.csv\")\n",
    "media = movies_df[saida].mean()\n",
    "mediana = movies_df[saida].median()\n",
    "desvio = movies_df[saida].std()\n",
    "\n",
    "print(saida)\n",
    "print(\"Media = {:.2f}\".format(media))\n",
    "print(\"Mediana = {:.2f}\".format(mediana))\n",
    "print(\"Desvio Padrão = {:.2f}\".format(desvio))"
   ]
  },
  {
   "cell_type": "markdown",
   "metadata": {},
   "source": [
    "### IMDB Votes"
   ]
  },
  {
   "cell_type": "code",
   "execution_count": 5,
   "metadata": {},
   "outputs": [
    {
     "name": "stdout",
     "output_type": "stream",
     "text": [
      "IMDB Votes\n",
      "Media = 29908.64\n",
      "Mediana = 15106.00\n",
      "Desvio Padrão = 44937.58\n"
     ]
    }
   ],
   "source": [
    "import pandas as pd\n",
    "import numpy as np\n",
    "\n",
    "saida = \"IMDB Votes\"\n",
    "\n",
    "movies_df = pd.read_csv(\"dataset/movies.csv\")\n",
    "media = movies_df[saida].mean()\n",
    "mediana = movies_df[saida].median()\n",
    "desvio = movies_df[saida].std()\n",
    "\n",
    "print(saida)\n",
    "print(\"Media = {:.2f}\".format(media))\n",
    "print(\"Mediana = {:.2f}\".format(mediana))\n",
    "print(\"Desvio Padrão = {:.2f}\".format(desvio))"
   ]
  },
  {
   "cell_type": "markdown",
   "metadata": {},
   "source": [
    "### Análise dos Resultados\n",
    "\n",
    "Quais colunas tiveram valores muito diferentes entre média e mediana? Quais os seus desvios padrão?"
   ]
  },
  {
   "cell_type": "markdown",
   "metadata": {},
   "source": [
    "R: A conluna com maior variação foi a do \"US Gross\" onde a mediana chega a ser menos da metade da media contendo o seu desvio padrão igual a 62555311,39.\n",
    "\n",
    "A segunda coluna com maior variação é a \"Production Budget\" com uma mediana limpa sendo um numero inteiro diferente da sua media que contem um numero de valor flutuante, seu desvio padrão é 35585913,44.\n",
    "\n",
    "Todos os resultados foram limitados á 2 casas decimais após a virgula."
   ]
  },
  {
   "cell_type": "markdown",
   "metadata": {},
   "source": [
    "Que conclusões podemos tirar desses resultados?"
   ]
  },
  {
   "cell_type": "markdown",
   "metadata": {},
   "source": [
    "R: Os valores que envolvem um certa quantia de dinheiro tendem a sofrer uma oscilação maior entre a media e mediana, um desvio padrão muito grande,apartir disso é observacdo que o menor desvio padrão sera as notas no IMDB onde os valores variam entre 0.0 e 10.0, isso ocorre pelo fato de que a viração numerico é de fato menor."
   ]
  }
 ],
 "metadata": {
  "kernelspec": {
   "display_name": "Python 3",
   "language": "python",
   "name": "python3"
  },
  "language_info": {
   "codemirror_mode": {
    "name": "ipython",
    "version": 3
   },
   "file_extension": ".py",
   "mimetype": "text/x-python",
   "name": "python",
   "nbconvert_exporter": "python",
   "pygments_lexer": "ipython3",
   "version": "3.9.2"
  }
 },
 "nbformat": 4,
 "nbformat_minor": 4
}
